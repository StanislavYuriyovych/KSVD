{
 "cells": [
  {
   "cell_type": "code",
   "execution_count": 2,
   "id": "ca788982-da2b-4b64-b745-2764c4b837e3",
   "metadata": {
    "tags": []
   },
   "outputs": [],
   "source": [
    "import pandas as pd \n",
    "import numpy as np\n",
    "from matplotlib import pyplot as plt \n",
    "import seaborn as sns\n",
    "plt.style.use('dark_background')\n",
    "import plotly.express as px"
   ]
  },
  {
   "cell_type": "markdown",
   "id": "df763560-34b4-47cb-8620-dbaf7df613d9",
   "metadata": {},
   "source": [
    "1. Прочитайте CSV файл (використовуйте метод read_csv): "
   ]
  },
  {
   "cell_type": "code",
   "execution_count": 256,
   "id": "304eb00c-d981-4a6f-8d38-278872f40e39",
   "metadata": {
    "tags": []
   },
   "outputs": [],
   "source": [
    "df = pd.read_csv('C:/Users/tuf/Downloads/Global YouTube Statistics.csv',encoding = 'windows-1251')"
   ]
  },
  {
   "cell_type": "markdown",
   "id": "1eb86c91-6222-495b-b3b2-1640df3516b0",
   "metadata": {},
   "source": [
    "2. Виведіть перші п'ять рядків (використовується метод head)"
   ]
  },
  {
   "cell_type": "code",
   "execution_count": 257,
   "id": "e691d524-1dcb-43c6-8850-cc9e4b28da04",
   "metadata": {
    "tags": []
   },
   "outputs": [
    {
     "data": {
      "text/html": [
       "<div>\n",
       "<style scoped>\n",
       "    .dataframe tbody tr th:only-of-type {\n",
       "        vertical-align: middle;\n",
       "    }\n",
       "\n",
       "    .dataframe tbody tr th {\n",
       "        vertical-align: top;\n",
       "    }\n",
       "\n",
       "    .dataframe thead th {\n",
       "        text-align: right;\n",
       "    }\n",
       "</style>\n",
       "<table border=\"1\" class=\"dataframe\">\n",
       "  <thead>\n",
       "    <tr style=\"text-align: right;\">\n",
       "      <th></th>\n",
       "      <th>rank</th>\n",
       "      <th>Youtuber</th>\n",
       "      <th>subscribers</th>\n",
       "      <th>video views</th>\n",
       "      <th>category</th>\n",
       "      <th>Title</th>\n",
       "      <th>uploads</th>\n",
       "      <th>Country</th>\n",
       "      <th>Abbreviation</th>\n",
       "      <th>channel_type</th>\n",
       "      <th>...</th>\n",
       "      <th>subscribers_for_last_30_days</th>\n",
       "      <th>created_year</th>\n",
       "      <th>created_month</th>\n",
       "      <th>created_date</th>\n",
       "      <th>Gross tertiary education enrollment (%)</th>\n",
       "      <th>Population</th>\n",
       "      <th>Unemployment rate</th>\n",
       "      <th>Urban_population</th>\n",
       "      <th>Latitude</th>\n",
       "      <th>Longitude</th>\n",
       "    </tr>\n",
       "  </thead>\n",
       "  <tbody>\n",
       "    <tr>\n",
       "      <th>0</th>\n",
       "      <td>1</td>\n",
       "      <td>T-Series</td>\n",
       "      <td>245000000</td>\n",
       "      <td>2.280000e+11</td>\n",
       "      <td>Music</td>\n",
       "      <td>T-Series</td>\n",
       "      <td>20082</td>\n",
       "      <td>India</td>\n",
       "      <td>IN</td>\n",
       "      <td>Music</td>\n",
       "      <td>...</td>\n",
       "      <td>2000000.0</td>\n",
       "      <td>2006.0</td>\n",
       "      <td>Mar</td>\n",
       "      <td>13.0</td>\n",
       "      <td>28.1</td>\n",
       "      <td>1.366418e+09</td>\n",
       "      <td>5.36</td>\n",
       "      <td>471031528.0</td>\n",
       "      <td>20.593684</td>\n",
       "      <td>78.962880</td>\n",
       "    </tr>\n",
       "    <tr>\n",
       "      <th>1</th>\n",
       "      <td>2</td>\n",
       "      <td>YouTube Movies</td>\n",
       "      <td>170000000</td>\n",
       "      <td>0.000000e+00</td>\n",
       "      <td>Film &amp; Animation</td>\n",
       "      <td>youtubemovies</td>\n",
       "      <td>1</td>\n",
       "      <td>United States</td>\n",
       "      <td>US</td>\n",
       "      <td>Games</td>\n",
       "      <td>...</td>\n",
       "      <td>NaN</td>\n",
       "      <td>2006.0</td>\n",
       "      <td>Mar</td>\n",
       "      <td>5.0</td>\n",
       "      <td>88.2</td>\n",
       "      <td>3.282395e+08</td>\n",
       "      <td>14.70</td>\n",
       "      <td>270663028.0</td>\n",
       "      <td>37.090240</td>\n",
       "      <td>-95.712891</td>\n",
       "    </tr>\n",
       "    <tr>\n",
       "      <th>2</th>\n",
       "      <td>3</td>\n",
       "      <td>MrBeast</td>\n",
       "      <td>166000000</td>\n",
       "      <td>2.836884e+10</td>\n",
       "      <td>Entertainment</td>\n",
       "      <td>MrBeast</td>\n",
       "      <td>741</td>\n",
       "      <td>United States</td>\n",
       "      <td>US</td>\n",
       "      <td>Entertainment</td>\n",
       "      <td>...</td>\n",
       "      <td>8000000.0</td>\n",
       "      <td>2012.0</td>\n",
       "      <td>Feb</td>\n",
       "      <td>20.0</td>\n",
       "      <td>88.2</td>\n",
       "      <td>3.282395e+08</td>\n",
       "      <td>14.70</td>\n",
       "      <td>270663028.0</td>\n",
       "      <td>37.090240</td>\n",
       "      <td>-95.712891</td>\n",
       "    </tr>\n",
       "    <tr>\n",
       "      <th>3</th>\n",
       "      <td>4</td>\n",
       "      <td>Cocomelon - Nursery Rhymes</td>\n",
       "      <td>162000000</td>\n",
       "      <td>1.640000e+11</td>\n",
       "      <td>Education</td>\n",
       "      <td>Cocomelon - Nursery Rhymes</td>\n",
       "      <td>966</td>\n",
       "      <td>United States</td>\n",
       "      <td>US</td>\n",
       "      <td>Education</td>\n",
       "      <td>...</td>\n",
       "      <td>1000000.0</td>\n",
       "      <td>2006.0</td>\n",
       "      <td>Sep</td>\n",
       "      <td>1.0</td>\n",
       "      <td>88.2</td>\n",
       "      <td>3.282395e+08</td>\n",
       "      <td>14.70</td>\n",
       "      <td>270663028.0</td>\n",
       "      <td>37.090240</td>\n",
       "      <td>-95.712891</td>\n",
       "    </tr>\n",
       "    <tr>\n",
       "      <th>4</th>\n",
       "      <td>5</td>\n",
       "      <td>SET India</td>\n",
       "      <td>159000000</td>\n",
       "      <td>1.480000e+11</td>\n",
       "      <td>Shows</td>\n",
       "      <td>SET India</td>\n",
       "      <td>116536</td>\n",
       "      <td>India</td>\n",
       "      <td>IN</td>\n",
       "      <td>Entertainment</td>\n",
       "      <td>...</td>\n",
       "      <td>1000000.0</td>\n",
       "      <td>2006.0</td>\n",
       "      <td>Sep</td>\n",
       "      <td>20.0</td>\n",
       "      <td>28.1</td>\n",
       "      <td>1.366418e+09</td>\n",
       "      <td>5.36</td>\n",
       "      <td>471031528.0</td>\n",
       "      <td>20.593684</td>\n",
       "      <td>78.962880</td>\n",
       "    </tr>\n",
       "  </tbody>\n",
       "</table>\n",
       "<p>5 rows × 28 columns</p>\n",
       "</div>"
      ],
      "text/plain": [
       "   rank                    Youtuber  subscribers   video views  \\\n",
       "0     1                    T-Series    245000000  2.280000e+11   \n",
       "1     2              YouTube Movies    170000000  0.000000e+00   \n",
       "2     3                     MrBeast    166000000  2.836884e+10   \n",
       "3     4  Cocomelon - Nursery Rhymes    162000000  1.640000e+11   \n",
       "4     5                   SET India    159000000  1.480000e+11   \n",
       "\n",
       "           category                       Title  uploads        Country  \\\n",
       "0             Music                    T-Series    20082          India   \n",
       "1  Film & Animation               youtubemovies        1  United States   \n",
       "2     Entertainment                     MrBeast      741  United States   \n",
       "3         Education  Cocomelon - Nursery Rhymes      966  United States   \n",
       "4             Shows                   SET India   116536          India   \n",
       "\n",
       "  Abbreviation   channel_type  ...  subscribers_for_last_30_days  \\\n",
       "0           IN          Music  ...                     2000000.0   \n",
       "1           US          Games  ...                           NaN   \n",
       "2           US  Entertainment  ...                     8000000.0   \n",
       "3           US      Education  ...                     1000000.0   \n",
       "4           IN  Entertainment  ...                     1000000.0   \n",
       "\n",
       "   created_year  created_month  created_date  \\\n",
       "0        2006.0            Mar          13.0   \n",
       "1        2006.0            Mar           5.0   \n",
       "2        2012.0            Feb          20.0   \n",
       "3        2006.0            Sep           1.0   \n",
       "4        2006.0            Sep          20.0   \n",
       "\n",
       "   Gross tertiary education enrollment (%)    Population  Unemployment rate  \\\n",
       "0                                     28.1  1.366418e+09               5.36   \n",
       "1                                     88.2  3.282395e+08              14.70   \n",
       "2                                     88.2  3.282395e+08              14.70   \n",
       "3                                     88.2  3.282395e+08              14.70   \n",
       "4                                     28.1  1.366418e+09               5.36   \n",
       "\n",
       "   Urban_population   Latitude  Longitude  \n",
       "0       471031528.0  20.593684  78.962880  \n",
       "1       270663028.0  37.090240 -95.712891  \n",
       "2       270663028.0  37.090240 -95.712891  \n",
       "3       270663028.0  37.090240 -95.712891  \n",
       "4       471031528.0  20.593684  78.962880  \n",
       "\n",
       "[5 rows x 28 columns]"
      ]
     },
     "execution_count": 257,
     "metadata": {},
     "output_type": "execute_result"
    }
   ],
   "source": [
    "df.head()"
   ]
  },
  {
   "cell_type": "markdown",
   "id": "7ad58687-e7cf-4d2d-8e28-3551a59dd053",
   "metadata": {},
   "source": [
    "3. Виведіть розміри датасету (використовуйте метод shape):"
   ]
  },
  {
   "cell_type": "code",
   "execution_count": 258,
   "id": "f2353136-2b58-4ec0-bc30-60508ffa6235",
   "metadata": {
    "tags": []
   },
   "outputs": [
    {
     "data": {
      "text/plain": [
       "(995, 28)"
      ]
     },
     "execution_count": 258,
     "metadata": {},
     "output_type": "execute_result"
    }
   ],
   "source": [
    "df.shape"
   ]
  },
  {
   "cell_type": "code",
   "execution_count": 259,
   "id": "9d05e9ba-59bd-4b24-aa69-0ba44b3d0102",
   "metadata": {
    "tags": []
   },
   "outputs": [
    {
     "data": {
      "text/plain": [
       "rank                                        0.000000\n",
       "Youtuber                                    0.000000\n",
       "subscribers                                 0.000000\n",
       "video views                                 0.000000\n",
       "category                                    4.623116\n",
       "Title                                       0.000000\n",
       "uploads                                     0.000000\n",
       "Country                                    12.261307\n",
       "Abbreviation                               12.261307\n",
       "channel_type                                3.015075\n",
       "video_views_rank                            0.100503\n",
       "country_rank                               11.658291\n",
       "channel_type_rank                           3.316583\n",
       "video_views_for_the_last_30_days            5.628141\n",
       "lowest_monthly_earnings                     0.000000\n",
       "highest_monthly_earnings                    0.000000\n",
       "lowest_yearly_earnings                      0.000000\n",
       "highest_yearly_earnings                     0.000000\n",
       "subscribers_for_last_30_days               33.869347\n",
       "created_year                                0.502513\n",
       "created_month                               0.502513\n",
       "created_date                                0.502513\n",
       "Gross tertiary education enrollment (%)    12.361809\n",
       "Population                                 12.361809\n",
       "Unemployment rate                          12.361809\n",
       "Urban_population                           12.361809\n",
       "Latitude                                   12.361809\n",
       "Longitude                                  12.361809\n",
       "dtype: float64"
      ]
     },
     "execution_count": 259,
     "metadata": {},
     "output_type": "execute_result"
    }
   ],
   "source": [
    "df.isna().mean()*100 "
   ]
  },
  {
   "cell_type": "code",
   "execution_count": 260,
   "id": "37281999-6bb5-4b1b-b060-91957f8e71d0",
   "metadata": {
    "tags": []
   },
   "outputs": [],
   "source": [
    "df.columns = df.columns.str.replace(' ','_') \n"
   ]
  },
  {
   "cell_type": "code",
   "execution_count": 262,
   "id": "bddde6aa-dde8-496d-b1a4-a9048f136144",
   "metadata": {
    "tags": []
   },
   "outputs": [],
   "source": [
    "df.fillna(np.mean,inplace=True)"
   ]
  },
  {
   "cell_type": "code",
   "execution_count": 263,
   "id": "df1df33c-ff30-46da-b52c-441f2f803f06",
   "metadata": {
    "tags": []
   },
   "outputs": [
    {
     "data": {
      "text/plain": [
       "rank                                       0.0\n",
       "Youtuber                                   0.0\n",
       "subscribers                                0.0\n",
       "video_views                                0.0\n",
       "category                                   0.0\n",
       "Title                                      0.0\n",
       "uploads                                    0.0\n",
       "Country                                    0.0\n",
       "Abbreviation                               0.0\n",
       "channel_type                               0.0\n",
       "video_views_rank                           0.0\n",
       "country_rank                               0.0\n",
       "channel_type_rank                          0.0\n",
       "video_views_for_the_last_30_days           0.0\n",
       "lowest_monthly_earnings                    0.0\n",
       "highest_monthly_earnings                   0.0\n",
       "lowest_yearly_earnings                     0.0\n",
       "highest_yearly_earnings                    0.0\n",
       "subscribers_for_last_30_days               0.0\n",
       "created_year                               0.0\n",
       "created_month                              0.0\n",
       "created_date                               0.0\n",
       "Gross_tertiary_education_enrollment_(%)    0.0\n",
       "Population                                 0.0\n",
       "Unemployment_rate                          0.0\n",
       "Urban_population                           0.0\n",
       "Latitude                                   0.0\n",
       "Longitude                                  0.0\n",
       "dtype: float64"
      ]
     },
     "execution_count": 263,
     "metadata": {},
     "output_type": "execute_result"
    }
   ],
   "source": [
    "df.isna().mean()"
   ]
  },
  {
   "cell_type": "code",
   "execution_count": 264,
   "id": "a4557026-1ca4-4aa5-a0e6-4c6360047235",
   "metadata": {
    "tags": []
   },
   "outputs": [],
   "source": [
    "df.rename(columns=lambda x: x.lower(), inplace=True)"
   ]
  },
  {
   "cell_type": "markdown",
   "id": "534428ab",
   "metadata": {},
   "source": [
    "7. Перевірте, скільки унікальних країн представлено у колонці \"Country"
   ]
  },
  {
   "cell_type": "code",
   "execution_count": 265,
   "id": "d38676d0-1f23-4b35-9dd1-b3c211a675b7",
   "metadata": {
    "tags": []
   },
   "outputs": [
    {
     "data": {
      "text/plain": [
       "array(['India', 'United States', <function mean at 0x0000025E12533C40>,\n",
       "       'Japan', 'Russia', 'South Korea', 'United Kingdom', 'Canada',\n",
       "       'Brazil', 'Argentina', 'Chile', 'Cuba', 'El Salvador', 'Pakistan',\n",
       "       'Philippines', 'Thailand', 'Colombia', 'Barbados', 'Mexico',\n",
       "       'United Arab Emirates', 'Spain', 'Saudi Arabia', 'Indonesia',\n",
       "       'Turkey', 'Venezuela', 'Kuwait', 'Jordan', 'Netherlands',\n",
       "       'Singapore', 'Australia', 'Italy', 'Germany', 'France', 'Sweden',\n",
       "       'Afghanistan', 'Ukraine', 'Latvia', 'Switzerland', 'Vietnam',\n",
       "       'Malaysia', 'China', 'Iraq', 'Egypt', 'Andorra', 'Ecuador',\n",
       "       'Morocco', 'Peru', 'Bangladesh', 'Finland', 'Samoa'], dtype=object)"
      ]
     },
     "execution_count": 265,
     "metadata": {},
     "output_type": "execute_result"
    }
   ],
   "source": [
    "df.country.unique()"
   ]
  },
  {
   "cell_type": "code",
   "execution_count": 266,
   "id": "71a38c0c-b1f5-4b89-8fc9-3aad0e39ee53",
   "metadata": {
    "tags": []
   },
   "outputs": [
    {
     "data": {
      "text/plain": [
       "50"
      ]
     },
     "execution_count": 266,
     "metadata": {},
     "output_type": "execute_result"
    }
   ],
   "source": [
    "df.country.nunique()"
   ]
  },
  {
   "cell_type": "code",
   "execution_count": null,
   "id": "9ba12587-8ca2-438e-af66-b331557e083a",
   "metadata": {
    "tags": []
   },
   "outputs": [],
   "source": []
  },
  {
   "cell_type": "code",
   "execution_count": 270,
   "id": "9f14ef96-e749-495a-ade0-b0a023636f5f",
   "metadata": {
    "tags": []
   },
   "outputs": [
    {
     "data": {
      "text/html": [
       "<div>\n",
       "<style scoped>\n",
       "    .dataframe tbody tr th:only-of-type {\n",
       "        vertical-align: middle;\n",
       "    }\n",
       "\n",
       "    .dataframe tbody tr th {\n",
       "        vertical-align: top;\n",
       "    }\n",
       "\n",
       "    .dataframe thead th {\n",
       "        text-align: right;\n",
       "    }\n",
       "</style>\n",
       "<table border=\"1\" class=\"dataframe\">\n",
       "  <thead>\n",
       "    <tr style=\"text-align: right;\">\n",
       "      <th></th>\n",
       "      <th>video_views</th>\n",
       "    </tr>\n",
       "  </thead>\n",
       "  <tbody>\n",
       "    <tr>\n",
       "      <th>max</th>\n",
       "      <td>2.280000e+11</td>\n",
       "    </tr>\n",
       "    <tr>\n",
       "      <th>min</th>\n",
       "      <td>0.000000e+00</td>\n",
       "    </tr>\n",
       "    <tr>\n",
       "      <th>mean</th>\n",
       "      <td>1.103954e+10</td>\n",
       "    </tr>\n",
       "  </tbody>\n",
       "</table>\n",
       "</div>"
      ],
      "text/plain": [
       "       video_views\n",
       "max   2.280000e+11\n",
       "min   0.000000e+00\n",
       "mean  1.103954e+10"
      ]
     },
     "execution_count": 270,
     "metadata": {},
     "output_type": "execute_result"
    }
   ],
   "source": [
    "df.video_views.agg(['max','min','mean']).to_frame()"
   ]
  },
  {
   "cell_type": "code",
   "execution_count": 271,
   "id": "d9a5c6ea-7276-4a8b-bb7a-6be33ad95f48",
   "metadata": {
    "tags": []
   },
   "outputs": [
    {
     "data": {
      "text/html": [
       "<div>\n",
       "<style scoped>\n",
       "    .dataframe tbody tr th:only-of-type {\n",
       "        vertical-align: middle;\n",
       "    }\n",
       "\n",
       "    .dataframe tbody tr th {\n",
       "        vertical-align: top;\n",
       "    }\n",
       "\n",
       "    .dataframe thead th {\n",
       "        text-align: right;\n",
       "    }\n",
       "</style>\n",
       "<table border=\"1\" class=\"dataframe\">\n",
       "  <thead>\n",
       "    <tr style=\"text-align: right;\">\n",
       "      <th></th>\n",
       "      <th>video_views</th>\n",
       "    </tr>\n",
       "  </thead>\n",
       "  <tbody>\n",
       "    <tr>\n",
       "      <th>max</th>\n",
       "      <td>2.280000e+11</td>\n",
       "    </tr>\n",
       "    <tr>\n",
       "      <th>min</th>\n",
       "      <td>0.000000e+00</td>\n",
       "    </tr>\n",
       "    <tr>\n",
       "      <th>median</th>\n",
       "      <td>7.760820e+09</td>\n",
       "    </tr>\n",
       "  </tbody>\n",
       "</table>\n",
       "</div>"
      ],
      "text/plain": [
       "         video_views\n",
       "max     2.280000e+11\n",
       "min     0.000000e+00\n",
       "median  7.760820e+09"
      ]
     },
     "execution_count": 271,
     "metadata": {},
     "output_type": "execute_result"
    }
   ],
   "source": [
    "df.video_views.agg(['max','min','median']).to_frame() "
   ]
  },
  {
   "cell_type": "code",
   "execution_count": 273,
   "id": "7da8ce8c-185f-43ee-9646-997d1c914c4d",
   "metadata": {
    "tags": []
   },
   "outputs": [],
   "source": [
    "top_countries = df.groupby('country').agg({'uploads':'sum'}).sort_values('uploads',ascending=False)"
   ]
  },
  {
   "cell_type": "code",
   "execution_count": 274,
   "id": "9b6cc587-f39c-4f06-a968-b9633572536a",
   "metadata": {
    "tags": []
   },
   "outputs": [
    {
     "data": {
      "text/html": [
       "<div>\n",
       "<style scoped>\n",
       "    .dataframe tbody tr th:only-of-type {\n",
       "        vertical-align: middle;\n",
       "    }\n",
       "\n",
       "    .dataframe tbody tr th {\n",
       "        vertical-align: top;\n",
       "    }\n",
       "\n",
       "    .dataframe thead th {\n",
       "        text-align: right;\n",
       "    }\n",
       "</style>\n",
       "<table border=\"1\" class=\"dataframe\">\n",
       "  <thead>\n",
       "    <tr style=\"text-align: right;\">\n",
       "      <th></th>\n",
       "      <th>uploads</th>\n",
       "    </tr>\n",
       "    <tr>\n",
       "      <th>country</th>\n",
       "      <th></th>\n",
       "    </tr>\n",
       "  </thead>\n",
       "  <tbody>\n",
       "    <tr>\n",
       "      <th>India</th>\n",
       "      <td>3728212</td>\n",
       "    </tr>\n",
       "    <tr>\n",
       "      <th>United States</th>\n",
       "      <td>1299609</td>\n",
       "    </tr>\n",
       "    <tr>\n",
       "      <th>Thailand</th>\n",
       "      <td>858953</td>\n",
       "    </tr>\n",
       "    <tr>\n",
       "      <th>Philippines</th>\n",
       "      <td>838543</td>\n",
       "    </tr>\n",
       "    <tr>\n",
       "      <th>Indonesia</th>\n",
       "      <td>678321</td>\n",
       "    </tr>\n",
       "  </tbody>\n",
       "</table>\n",
       "</div>"
      ],
      "text/plain": [
       "               uploads\n",
       "country               \n",
       "India          3728212\n",
       "United States  1299609\n",
       "Thailand        858953\n",
       "Philippines     838543\n",
       "Indonesia       678321"
      ]
     },
     "execution_count": 274,
     "metadata": {},
     "output_type": "execute_result"
    }
   ],
   "source": [
    "top_countries.head()"
   ]
  },
  {
   "cell_type": "code",
   "execution_count": 275,
   "id": "e97b2e8f-60df-41e1-84ad-2ee1cf32f4f6",
   "metadata": {
    "tags": []
   },
   "outputs": [
    {
     "data": {
      "text/html": [
       "<div>\n",
       "<style scoped>\n",
       "    .dataframe tbody tr th:only-of-type {\n",
       "        vertical-align: middle;\n",
       "    }\n",
       "\n",
       "    .dataframe tbody tr th {\n",
       "        vertical-align: top;\n",
       "    }\n",
       "\n",
       "    .dataframe thead th {\n",
       "        text-align: right;\n",
       "    }\n",
       "</style>\n",
       "<table border=\"1\" class=\"dataframe\">\n",
       "  <thead>\n",
       "    <tr style=\"text-align: right;\">\n",
       "      <th></th>\n",
       "      <th>uploads</th>\n",
       "    </tr>\n",
       "    <tr>\n",
       "      <th>country</th>\n",
       "      <th></th>\n",
       "    </tr>\n",
       "  </thead>\n",
       "  <tbody>\n",
       "    <tr>\n",
       "      <th>India</th>\n",
       "      <td>3728212</td>\n",
       "    </tr>\n",
       "    <tr>\n",
       "      <th>United States</th>\n",
       "      <td>1299609</td>\n",
       "    </tr>\n",
       "    <tr>\n",
       "      <th>Thailand</th>\n",
       "      <td>858953</td>\n",
       "    </tr>\n",
       "    <tr>\n",
       "      <th>Philippines</th>\n",
       "      <td>838543</td>\n",
       "    </tr>\n",
       "    <tr>\n",
       "      <th>Indonesia</th>\n",
       "      <td>678321</td>\n",
       "    </tr>\n",
       "    <tr>\n",
       "      <th>Pakistan</th>\n",
       "      <td>507947</td>\n",
       "    </tr>\n",
       "    <tr>\n",
       "      <th>Ukraine</th>\n",
       "      <td>220128</td>\n",
       "    </tr>\n",
       "    <tr>\n",
       "      <th>United Arab Emirates</th>\n",
       "      <td>188422</td>\n",
       "    </tr>\n",
       "    <tr>\n",
       "      <th>Brazil</th>\n",
       "      <td>168178</td>\n",
       "    </tr>\n",
       "    <tr>\n",
       "      <th>South Korea</th>\n",
       "      <td>129724</td>\n",
       "    </tr>\n",
       "    <tr>\n",
       "      <th>United Kingdom</th>\n",
       "      <td>86816</td>\n",
       "    </tr>\n",
       "    <tr>\n",
       "      <th>Spain</th>\n",
       "      <td>70160</td>\n",
       "    </tr>\n",
       "    <tr>\n",
       "      <th>&lt;function mean at 0x0000025E12533C40&gt;</th>\n",
       "      <td>65337</td>\n",
       "    </tr>\n",
       "    <tr>\n",
       "      <th>Canada</th>\n",
       "      <td>46745</td>\n",
       "    </tr>\n",
       "    <tr>\n",
       "      <th>Mexico</th>\n",
       "      <td>33410</td>\n",
       "    </tr>\n",
       "    <tr>\n",
       "      <th>Singapore</th>\n",
       "      <td>32039</td>\n",
       "    </tr>\n",
       "    <tr>\n",
       "      <th>Turkey</th>\n",
       "      <td>28189</td>\n",
       "    </tr>\n",
       "    <tr>\n",
       "      <th>Russia</th>\n",
       "      <td>19558</td>\n",
       "    </tr>\n",
       "    <tr>\n",
       "      <th>Japan</th>\n",
       "      <td>18856</td>\n",
       "    </tr>\n",
       "    <tr>\n",
       "      <th>Argentina</th>\n",
       "      <td>17240</td>\n",
       "    </tr>\n",
       "    <tr>\n",
       "      <th>Netherlands</th>\n",
       "      <td>14329</td>\n",
       "    </tr>\n",
       "    <tr>\n",
       "      <th>Saudi Arabia</th>\n",
       "      <td>13107</td>\n",
       "    </tr>\n",
       "    <tr>\n",
       "      <th>Colombia</th>\n",
       "      <td>10779</td>\n",
       "    </tr>\n",
       "    <tr>\n",
       "      <th>Switzerland</th>\n",
       "      <td>10728</td>\n",
       "    </tr>\n",
       "    <tr>\n",
       "      <th>Australia</th>\n",
       "      <td>7179</td>\n",
       "    </tr>\n",
       "    <tr>\n",
       "      <th>Chile</th>\n",
       "      <td>6771</td>\n",
       "    </tr>\n",
       "    <tr>\n",
       "      <th>Germany</th>\n",
       "      <td>6743</td>\n",
       "    </tr>\n",
       "    <tr>\n",
       "      <th>Jordan</th>\n",
       "      <td>6667</td>\n",
       "    </tr>\n",
       "    <tr>\n",
       "      <th>Egypt</th>\n",
       "      <td>5936</td>\n",
       "    </tr>\n",
       "    <tr>\n",
       "      <th>Vietnam</th>\n",
       "      <td>5408</td>\n",
       "    </tr>\n",
       "    <tr>\n",
       "      <th>Iraq</th>\n",
       "      <td>3860</td>\n",
       "    </tr>\n",
       "    <tr>\n",
       "      <th>France</th>\n",
       "      <td>2227</td>\n",
       "    </tr>\n",
       "    <tr>\n",
       "      <th>Latvia</th>\n",
       "      <td>1935</td>\n",
       "    </tr>\n",
       "    <tr>\n",
       "      <th>Ecuador</th>\n",
       "      <td>1934</td>\n",
       "    </tr>\n",
       "    <tr>\n",
       "      <th>Italy</th>\n",
       "      <td>1805</td>\n",
       "    </tr>\n",
       "    <tr>\n",
       "      <th>Malaysia</th>\n",
       "      <td>1716</td>\n",
       "    </tr>\n",
       "    <tr>\n",
       "      <th>Sweden</th>\n",
       "      <td>1293</td>\n",
       "    </tr>\n",
       "    <tr>\n",
       "      <th>Kuwait</th>\n",
       "      <td>641</td>\n",
       "    </tr>\n",
       "    <tr>\n",
       "      <th>El Salvador</th>\n",
       "      <td>543</td>\n",
       "    </tr>\n",
       "    <tr>\n",
       "      <th>Peru</th>\n",
       "      <td>399</td>\n",
       "    </tr>\n",
       "    <tr>\n",
       "      <th>Morocco</th>\n",
       "      <td>176</td>\n",
       "    </tr>\n",
       "    <tr>\n",
       "      <th>Finland</th>\n",
       "      <td>172</td>\n",
       "    </tr>\n",
       "    <tr>\n",
       "      <th>Andorra</th>\n",
       "      <td>159</td>\n",
       "    </tr>\n",
       "    <tr>\n",
       "      <th>China</th>\n",
       "      <td>128</td>\n",
       "    </tr>\n",
       "    <tr>\n",
       "      <th>Barbados</th>\n",
       "      <td>84</td>\n",
       "    </tr>\n",
       "    <tr>\n",
       "      <th>Venezuela</th>\n",
       "      <td>65</td>\n",
       "    </tr>\n",
       "    <tr>\n",
       "      <th>Samoa</th>\n",
       "      <td>12</td>\n",
       "    </tr>\n",
       "    <tr>\n",
       "      <th>Bangladesh</th>\n",
       "      <td>6</td>\n",
       "    </tr>\n",
       "    <tr>\n",
       "      <th>Cuba</th>\n",
       "      <td>1</td>\n",
       "    </tr>\n",
       "    <tr>\n",
       "      <th>Afghanistan</th>\n",
       "      <td>0</td>\n",
       "    </tr>\n",
       "  </tbody>\n",
       "</table>\n",
       "</div>"
      ],
      "text/plain": [
       "                                       uploads\n",
       "country                                       \n",
       "India                                  3728212\n",
       "United States                          1299609\n",
       "Thailand                                858953\n",
       "Philippines                             838543\n",
       "Indonesia                               678321\n",
       "Pakistan                                507947\n",
       "Ukraine                                 220128\n",
       "United Arab Emirates                    188422\n",
       "Brazil                                  168178\n",
       "South Korea                             129724\n",
       "United Kingdom                           86816\n",
       "Spain                                    70160\n",
       "<function mean at 0x0000025E12533C40>    65337\n",
       "Canada                                   46745\n",
       "Mexico                                   33410\n",
       "Singapore                                32039\n",
       "Turkey                                   28189\n",
       "Russia                                   19558\n",
       "Japan                                    18856\n",
       "Argentina                                17240\n",
       "Netherlands                              14329\n",
       "Saudi Arabia                             13107\n",
       "Colombia                                 10779\n",
       "Switzerland                              10728\n",
       "Australia                                 7179\n",
       "Chile                                     6771\n",
       "Germany                                   6743\n",
       "Jordan                                    6667\n",
       "Egypt                                     5936\n",
       "Vietnam                                   5408\n",
       "Iraq                                      3860\n",
       "France                                    2227\n",
       "Latvia                                    1935\n",
       "Ecuador                                   1934\n",
       "Italy                                     1805\n",
       "Malaysia                                  1716\n",
       "Sweden                                    1293\n",
       "Kuwait                                     641\n",
       "El Salvador                                543\n",
       "Peru                                       399\n",
       "Morocco                                    176\n",
       "Finland                                    172\n",
       "Andorra                                    159\n",
       "China                                      128\n",
       "Barbados                                    84\n",
       "Venezuela                                   65\n",
       "Samoa                                       12\n",
       "Bangladesh                                   6\n",
       "Cuba                                         1\n",
       "Afghanistan                                  0"
      ]
     },
     "execution_count": 275,
     "metadata": {},
     "output_type": "execute_result"
    }
   ],
   "source": [
    "top_countries"
   ]
  },
  {
   "cell_type": "code",
   "execution_count": null,
   "id": "deccb10d-0d7d-4b43-8141-784b09d8136b",
   "metadata": {
    "tags": []
   },
   "outputs": [],
   "source": []
  },
  {
   "cell_type": "code",
   "execution_count": 276,
   "id": "c6eed68b-36be-48f3-aec7-7059d72b7c64",
   "metadata": {
    "tags": []
   },
   "outputs": [
    {
     "data": {
      "text/plain": [
       "(array([ 0,  1,  2,  3,  4,  5,  6,  7,  8,  9, 10, 11, 12, 13, 14, 15, 16,\n",
       "        17, 18, 19, 20, 21, 22, 23, 24, 25, 26, 27, 28, 29, 30, 31, 32, 33,\n",
       "        34, 35, 36, 37, 38, 39, 40, 41, 42, 43, 44, 45, 46, 47, 48, 49]),\n",
       " [Text(0, 0, 'India'),\n",
       "  Text(1, 0, 'United States'),\n",
       "  Text(2, 0, '<function mean at 0x0000025E12533C40>'),\n",
       "  Text(3, 0, 'Japan'),\n",
       "  Text(4, 0, 'Russia'),\n",
       "  Text(5, 0, 'South Korea'),\n",
       "  Text(6, 0, 'United Kingdom'),\n",
       "  Text(7, 0, 'Canada'),\n",
       "  Text(8, 0, 'Brazil'),\n",
       "  Text(9, 0, 'Argentina'),\n",
       "  Text(10, 0, 'Chile'),\n",
       "  Text(11, 0, 'Cuba'),\n",
       "  Text(12, 0, 'El Salvador'),\n",
       "  Text(13, 0, 'Pakistan'),\n",
       "  Text(14, 0, 'Philippines'),\n",
       "  Text(15, 0, 'Thailand'),\n",
       "  Text(16, 0, 'Colombia'),\n",
       "  Text(17, 0, 'Barbados'),\n",
       "  Text(18, 0, 'Mexico'),\n",
       "  Text(19, 0, 'United Arab Emirates'),\n",
       "  Text(20, 0, 'Spain'),\n",
       "  Text(21, 0, 'Saudi Arabia'),\n",
       "  Text(22, 0, 'Indonesia'),\n",
       "  Text(23, 0, 'Turkey'),\n",
       "  Text(24, 0, 'Venezuela'),\n",
       "  Text(25, 0, 'Kuwait'),\n",
       "  Text(26, 0, 'Jordan'),\n",
       "  Text(27, 0, 'Netherlands'),\n",
       "  Text(28, 0, 'Singapore'),\n",
       "  Text(29, 0, 'Australia'),\n",
       "  Text(30, 0, 'Italy'),\n",
       "  Text(31, 0, 'Germany'),\n",
       "  Text(32, 0, 'France'),\n",
       "  Text(33, 0, 'Sweden'),\n",
       "  Text(34, 0, 'Afghanistan'),\n",
       "  Text(35, 0, 'Ukraine'),\n",
       "  Text(36, 0, 'Latvia'),\n",
       "  Text(37, 0, 'Switzerland'),\n",
       "  Text(38, 0, 'Vietnam'),\n",
       "  Text(39, 0, 'Malaysia'),\n",
       "  Text(40, 0, 'China'),\n",
       "  Text(41, 0, 'Iraq'),\n",
       "  Text(42, 0, 'Egypt'),\n",
       "  Text(43, 0, 'Andorra'),\n",
       "  Text(44, 0, 'Ecuador'),\n",
       "  Text(45, 0, 'Morocco'),\n",
       "  Text(46, 0, 'Peru'),\n",
       "  Text(47, 0, 'Bangladesh'),\n",
       "  Text(48, 0, 'Finland'),\n",
       "  Text(49, 0, 'Samoa')])"
      ]
     },
     "execution_count": 276,
     "metadata": {},
     "output_type": "execute_result"
    },
    {
     "data": {
      "image/png": "[encoded data removed]",
      "text/plain": [
       "<Figure size 1500x600 with 1 Axes>"
      ]
     },
     "metadata": {},
     "output_type": "display_data"
    }
   ],
   "source": [
    "plt.figure(figsize=(15,6))\n",
    "sns.barplot(x=df.country,y=df.uploads)\n",
    "plt.xticks(rotation=90)"
   ]
  },
  {
   "cell_type": "code",
   "execution_count": 288,
   "id": "0768880b-695f-4387-880f-39f2f85227dc",
   "metadata": {
    "tags": []
   },
   "outputs": [
    {
     "data": {
      "text/html": [
       "<div>\n",
       "<style scoped>\n",
       "    .dataframe tbody tr th:only-of-type {\n",
       "        vertical-align: middle;\n",
       "    }\n",
       "\n",
       "    .dataframe tbody tr th {\n",
       "        vertical-align: top;\n",
       "    }\n",
       "\n",
       "    .dataframe thead th {\n",
       "        text-align: right;\n",
       "    }\n",
       "</style>\n",
       "<table border=\"1\" class=\"dataframe\">\n",
       "  <thead>\n",
       "    <tr style=\"text-align: right;\">\n",
       "      <th></th>\n",
       "      <th>uploads</th>\n",
       "    </tr>\n",
       "    <tr>\n",
       "      <th>title</th>\n",
       "      <th></th>\n",
       "    </tr>\n",
       "  </thead>\n",
       "  <tbody>\n",
       "    <tr>\n",
       "      <th>ABP NEWS</th>\n",
       "      <td>301308</td>\n",
       "    </tr>\n",
       "    <tr>\n",
       "      <th>GMA Integrated News</th>\n",
       "      <td>296272</td>\n",
       "    </tr>\n",
       "    <tr>\n",
       "      <th>TV9 Bharatvarsh</th>\n",
       "      <td>293516</td>\n",
       "    </tr>\n",
       "    <tr>\n",
       "      <th>Aaj Tak</th>\n",
       "      <td>283775</td>\n",
       "    </tr>\n",
       "    <tr>\n",
       "      <th>IndiaTV</th>\n",
       "      <td>273255</td>\n",
       "    </tr>\n",
       "    <tr>\n",
       "      <th>...</th>\n",
       "      <td>...</td>\n",
       "    </tr>\n",
       "    <tr>\n",
       "      <th>TheGameTheorists</th>\n",
       "      <td>0</td>\n",
       "    </tr>\n",
       "    <tr>\n",
       "      <th>Homem Aranha player</th>\n",
       "      <td>0</td>\n",
       "    </tr>\n",
       "    <tr>\n",
       "      <th>Live</th>\n",
       "      <td>0</td>\n",
       "    </tr>\n",
       "    <tr>\n",
       "      <th>TKoR</th>\n",
       "      <td>0</td>\n",
       "    </tr>\n",
       "    <tr>\n",
       "      <th>Masha e o Urso</th>\n",
       "      <td>0</td>\n",
       "    </tr>\n",
       "  </tbody>\n",
       "</table>\n",
       "<p>992 rows × 1 columns</p>\n",
       "</div>"
      ],
      "text/plain": [
       "                     uploads\n",
       "title                       \n",
       "ABP NEWS              301308\n",
       "GMA Integrated News   296272\n",
       "TV9 Bharatvarsh       293516\n",
       "Aaj Tak               283775\n",
       "IndiaTV               273255\n",
       "...                      ...\n",
       "TheGameTheorists           0\n",
       "Homem Aranha player        0\n",
       "Live                       0\n",
       "TKoR                       0\n",
       "Masha e o Urso             0\n",
       "\n",
       "[992 rows x 1 columns]"
      ]
     },
     "execution_count": 288,
     "metadata": {},
     "output_type": "execute_result"
    }
   ],
   "source": [
    "df.groupby('title').agg({'uploads':'sum'}).sort_values('uploads',ascending=False)"
   ]
  },
  {
   "cell_type": "code",
   "execution_count": 4,
   "id": "842298ca-6497-4cba-b9df-6dd1bdf6e338",
   "metadata": {
    "tags": []
   },
   "outputs": [],
   "source": [
    "df = pd.read_excel('C:/Users/tuf/Downloads/bestsellers with categories.xlsx')"
   ]
  },
  {
   "cell_type": "code",
   "execution_count": 5,
   "id": "b48c4f0f-341b-49d5-aa57-e80761cdcf8d",
   "metadata": {},
   "outputs": [
    {
     "data": {
      "text/html": [
       "<div>\n",
       "<style scoped>\n",
       "    .dataframe tbody tr th:only-of-type {\n",
       "        vertical-align: middle;\n",
       "    }\n",
       "\n",
       "    .dataframe tbody tr th {\n",
       "        vertical-align: top;\n",
       "    }\n",
       "\n",
       "    .dataframe thead th {\n",
       "        text-align: right;\n",
       "    }\n",
       "</style>\n",
       "<table border=\"1\" class=\"dataframe\">\n",
       "  <thead>\n",
       "    <tr style=\"text-align: right;\">\n",
       "      <th></th>\n",
       "      <th>Name</th>\n",
       "      <th>Author</th>\n",
       "      <th>User Rating</th>\n",
       "      <th>Reviews</th>\n",
       "      <th>Price</th>\n",
       "      <th>Year</th>\n",
       "      <th>Genre</th>\n",
       "    </tr>\n",
       "  </thead>\n",
       "  <tbody>\n",
       "    <tr>\n",
       "      <th>0</th>\n",
       "      <td>10-Day Green Smoothie Cleanse</td>\n",
       "      <td>JJ Smith</td>\n",
       "      <td>4.7</td>\n",
       "      <td>17350</td>\n",
       "      <td>8</td>\n",
       "      <td>2016</td>\n",
       "      <td>Non Fiction</td>\n",
       "    </tr>\n",
       "    <tr>\n",
       "      <th>1</th>\n",
       "      <td>11/22/63: A Novel</td>\n",
       "      <td>Stephen King</td>\n",
       "      <td>4.6</td>\n",
       "      <td>2052</td>\n",
       "      <td>22</td>\n",
       "      <td>2011</td>\n",
       "      <td>Fiction</td>\n",
       "    </tr>\n",
       "    <tr>\n",
       "      <th>2</th>\n",
       "      <td>12 Rules for Life: An Antidote to Chaos</td>\n",
       "      <td>Jordan B. Peterson</td>\n",
       "      <td>4.7</td>\n",
       "      <td>18979</td>\n",
       "      <td>15</td>\n",
       "      <td>2018</td>\n",
       "      <td>Non Fiction</td>\n",
       "    </tr>\n",
       "    <tr>\n",
       "      <th>3</th>\n",
       "      <td>1984 (Signet Classics)</td>\n",
       "      <td>George Orwell</td>\n",
       "      <td>4.7</td>\n",
       "      <td>21424</td>\n",
       "      <td>6</td>\n",
       "      <td>2017</td>\n",
       "      <td>Fiction</td>\n",
       "    </tr>\n",
       "    <tr>\n",
       "      <th>4</th>\n",
       "      <td>5,000 Awesome Facts (About Everything!) (Natio...</td>\n",
       "      <td>National Geographic Kids</td>\n",
       "      <td>4.8</td>\n",
       "      <td>7665</td>\n",
       "      <td>12</td>\n",
       "      <td>2019</td>\n",
       "      <td>Non Fiction</td>\n",
       "    </tr>\n",
       "  </tbody>\n",
       "</table>\n",
       "</div>"
      ],
      "text/plain": [
       "                                                Name  \\\n",
       "0                      10-Day Green Smoothie Cleanse   \n",
       "1                                  11/22/63: A Novel   \n",
       "2            12 Rules for Life: An Antidote to Chaos   \n",
       "3                             1984 (Signet Classics)   \n",
       "4  5,000 Awesome Facts (About Everything!) (Natio...   \n",
       "\n",
       "                     Author  User Rating  Reviews  Price  Year        Genre  \n",
       "0                  JJ Smith          4.7    17350      8  2016  Non Fiction  \n",
       "1              Stephen King          4.6     2052     22  2011      Fiction  \n",
       "2        Jordan B. Peterson          4.7    18979     15  2018  Non Fiction  \n",
       "3             George Orwell          4.7    21424      6  2017      Fiction  \n",
       "4  National Geographic Kids          4.8     7665     12  2019  Non Fiction  "
      ]
     },
     "execution_count": 5,
     "metadata": {},
     "output_type": "execute_result"
    }
   ],
   "source": [
    "df.head()"
   ]
  },
  {
   "cell_type": "code",
   "execution_count": 6,
   "id": "0a095aa9-ac3e-45f4-9e9d-5d25c78c7c0b",
   "metadata": {
    "tags": []
   },
   "outputs": [
    {
     "data": {
      "text/plain": [
       "(550, 7)"
      ]
     },
     "execution_count": 6,
     "metadata": {},
     "output_type": "execute_result"
    }
   ],
   "source": [
    "df.shape"
   ]
  },
  {
   "cell_type": "markdown",
   "id": "737fdd22-2a57-4490-a754-f67a135930d9",
   "metadata": {},
   "source": [
    "Питання: Про скільки книг зберігає дані датасет? "
   ]
  },
  {
   "cell_type": "code",
   "execution_count": 11,
   "id": "b6275a7d-8117-4686-83aa-36ce3f75b5a8",
   "metadata": {
    "tags": []
   },
   "outputs": [
    {
     "data": {
      "text/plain": [
       "351"
      ]
     },
     "execution_count": 11,
     "metadata": {},
     "output_type": "execute_result"
    }
   ],
   "source": [
    "df.Name.nunique() "
   ]
  },
  {
   "cell_type": "code",
   "execution_count": 21,
   "id": "19cc7e3c-78d9-45ae-a35c-fd5821deedf9",
   "metadata": {
    "tags": []
   },
   "outputs": [
    {
     "data": {
      "text/html": [
       "<div>\n",
       "<style scoped>\n",
       "    .dataframe tbody tr th:only-of-type {\n",
       "        vertical-align: middle;\n",
       "    }\n",
       "\n",
       "    .dataframe tbody tr th {\n",
       "        vertical-align: top;\n",
       "    }\n",
       "\n",
       "    .dataframe thead th {\n",
       "        text-align: right;\n",
       "    }\n",
       "</style>\n",
       "<table border=\"1\" class=\"dataframe\">\n",
       "  <thead>\n",
       "    <tr style=\"text-align: right;\">\n",
       "      <th></th>\n",
       "      <th>Name</th>\n",
       "      <th>Author</th>\n",
       "      <th>User Rating</th>\n",
       "      <th>Reviews</th>\n",
       "      <th>Price</th>\n",
       "      <th>Year</th>\n",
       "      <th>Genre</th>\n",
       "    </tr>\n",
       "  </thead>\n",
       "  <tbody>\n",
       "    <tr>\n",
       "      <th>10</th>\n",
       "      <td>A Man Called Ove: A Novel</td>\n",
       "      <td>Fredrik Backman</td>\n",
       "      <td>4.6</td>\n",
       "      <td>23848</td>\n",
       "      <td>8</td>\n",
       "      <td>2017</td>\n",
       "      <td>Fiction</td>\n",
       "    </tr>\n",
       "    <tr>\n",
       "      <th>21</th>\n",
       "      <td>All the Light We Cannot See</td>\n",
       "      <td>Anthony Doerr</td>\n",
       "      <td>4.6</td>\n",
       "      <td>36348</td>\n",
       "      <td>14</td>\n",
       "      <td>2015</td>\n",
       "      <td>Fiction</td>\n",
       "    </tr>\n",
       "    <tr>\n",
       "      <th>33</th>\n",
       "      <td>Becoming</td>\n",
       "      <td>Michelle Obama</td>\n",
       "      <td>4.8</td>\n",
       "      <td>61133</td>\n",
       "      <td>11</td>\n",
       "      <td>2019</td>\n",
       "      <td>Non Fiction</td>\n",
       "    </tr>\n",
       "    <tr>\n",
       "      <th>36</th>\n",
       "      <td>Between the World and Me</td>\n",
       "      <td>Ta-Nehisi Coates</td>\n",
       "      <td>4.7</td>\n",
       "      <td>10070</td>\n",
       "      <td>13</td>\n",
       "      <td>2016</td>\n",
       "      <td>Non Fiction</td>\n",
       "    </tr>\n",
       "    <tr>\n",
       "      <th>41</th>\n",
       "      <td>Brown Bear, Brown Bear, What Do You See?</td>\n",
       "      <td>Bill Martin Jr.</td>\n",
       "      <td>4.9</td>\n",
       "      <td>14344</td>\n",
       "      <td>5</td>\n",
       "      <td>2019</td>\n",
       "      <td>Fiction</td>\n",
       "    </tr>\n",
       "    <tr>\n",
       "      <th>...</th>\n",
       "      <td>...</td>\n",
       "      <td>...</td>\n",
       "      <td>...</td>\n",
       "      <td>...</td>\n",
       "      <td>...</td>\n",
       "      <td>...</td>\n",
       "      <td>...</td>\n",
       "    </tr>\n",
       "    <tr>\n",
       "      <th>543</th>\n",
       "      <td>Wonder</td>\n",
       "      <td>R. J. Palacio</td>\n",
       "      <td>4.8</td>\n",
       "      <td>21625</td>\n",
       "      <td>9</td>\n",
       "      <td>2016</td>\n",
       "      <td>Fiction</td>\n",
       "    </tr>\n",
       "    <tr>\n",
       "      <th>544</th>\n",
       "      <td>Wonder</td>\n",
       "      <td>R. J. Palacio</td>\n",
       "      <td>4.8</td>\n",
       "      <td>21625</td>\n",
       "      <td>9</td>\n",
       "      <td>2017</td>\n",
       "      <td>Fiction</td>\n",
       "    </tr>\n",
       "    <tr>\n",
       "      <th>547</th>\n",
       "      <td>You Are a Badass: How to Stop Doubting Your Gr...</td>\n",
       "      <td>Jen Sincero</td>\n",
       "      <td>4.7</td>\n",
       "      <td>14331</td>\n",
       "      <td>8</td>\n",
       "      <td>2017</td>\n",
       "      <td>Non Fiction</td>\n",
       "    </tr>\n",
       "    <tr>\n",
       "      <th>548</th>\n",
       "      <td>You Are a Badass: How to Stop Doubting Your Gr...</td>\n",
       "      <td>Jen Sincero</td>\n",
       "      <td>4.7</td>\n",
       "      <td>14331</td>\n",
       "      <td>8</td>\n",
       "      <td>2018</td>\n",
       "      <td>Non Fiction</td>\n",
       "    </tr>\n",
       "    <tr>\n",
       "      <th>549</th>\n",
       "      <td>You Are a Badass: How to Stop Doubting Your Gr...</td>\n",
       "      <td>Jen Sincero</td>\n",
       "      <td>4.7</td>\n",
       "      <td>14331</td>\n",
       "      <td>8</td>\n",
       "      <td>2019</td>\n",
       "      <td>Non Fiction</td>\n",
       "    </tr>\n",
       "  </tbody>\n",
       "</table>\n",
       "<p>199 rows × 7 columns</p>\n",
       "</div>"
      ],
      "text/plain": [
       "                                                  Name            Author  \\\n",
       "10                           A Man Called Ove: A Novel   Fredrik Backman   \n",
       "21                         All the Light We Cannot See     Anthony Doerr   \n",
       "33                                            Becoming    Michelle Obama   \n",
       "36                            Between the World and Me  Ta-Nehisi Coates   \n",
       "41            Brown Bear, Brown Bear, What Do You See?   Bill Martin Jr.   \n",
       "..                                                 ...               ...   \n",
       "543                                             Wonder     R. J. Palacio   \n",
       "544                                             Wonder     R. J. Palacio   \n",
       "547  You Are a Badass: How to Stop Doubting Your Gr...       Jen Sincero   \n",
       "548  You Are a Badass: How to Stop Doubting Your Gr...       Jen Sincero   \n",
       "549  You Are a Badass: How to Stop Doubting Your Gr...       Jen Sincero   \n",
       "\n",
       "     User Rating  Reviews  Price  Year        Genre  \n",
       "10           4.6    23848      8  2017      Fiction  \n",
       "21           4.6    36348     14  2015      Fiction  \n",
       "33           4.8    61133     11  2019  Non Fiction  \n",
       "36           4.7    10070     13  2016  Non Fiction  \n",
       "41           4.9    14344      5  2019      Fiction  \n",
       "..           ...      ...    ...   ...          ...  \n",
       "543          4.8    21625      9  2016      Fiction  \n",
       "544          4.8    21625      9  2017      Fiction  \n",
       "547          4.7    14331      8  2017  Non Fiction  \n",
       "548          4.7    14331      8  2018  Non Fiction  \n",
       "549          4.7    14331      8  2019  Non Fiction  \n",
       "\n",
       "[199 rows x 7 columns]"
      ]
     },
     "execution_count": 21,
     "metadata": {},
     "output_type": "execute_result"
    }
   ],
   "source": [
    "df[df.Name.duplicated()] "
   ]
  },
  {
   "cell_type": "code",
   "execution_count": 49,
   "id": "6c755e35-20ea-4fe8-a648-10c249308315",
   "metadata": {
    "tags": []
   },
   "outputs": [],
   "source": [
    "columns = df.columns.str.replace(' ','_').str.lower()"
   ]
  },
  {
   "cell_type": "code",
   "execution_count": 50,
   "id": "82d0d140-39b2-4602-94d9-cb4d82b9343f",
   "metadata": {
    "tags": []
   },
   "outputs": [
    {
     "data": {
      "text/plain": [
       "Index(['name', 'author', 'user_rating', 'reviews', 'price', 'year', 'genre'], dtype='object')"
      ]
     },
     "execution_count": 50,
     "metadata": {},
     "output_type": "execute_result"
    }
   ],
   "source": [
    "columns"
   ]
  },
  {
   "cell_type": "code",
   "execution_count": 52,
   "id": "635710a1-b547-479a-98af-0f0c7b04911f",
   "metadata": {
    "tags": []
   },
   "outputs": [],
   "source": [
    "df.columns = df.columns.str.replace(' ', '_').str.lower()"
   ]
  },
  {
   "cell_type": "code",
   "execution_count": 54,
   "id": "cc83c6b6-8882-4b14-b602-57d588c473a4",
   "metadata": {
    "tags": []
   },
   "outputs": [
    {
     "data": {
      "text/html": [
       "<div>\n",
       "<style scoped>\n",
       "    .dataframe tbody tr th:only-of-type {\n",
       "        vertical-align: middle;\n",
       "    }\n",
       "\n",
       "    .dataframe tbody tr th {\n",
       "        vertical-align: top;\n",
       "    }\n",
       "\n",
       "    .dataframe thead th {\n",
       "        text-align: right;\n",
       "    }\n",
       "</style>\n",
       "<table border=\"1\" class=\"dataframe\">\n",
       "  <thead>\n",
       "    <tr style=\"text-align: right;\">\n",
       "      <th></th>\n",
       "      <th>name</th>\n",
       "      <th>author</th>\n",
       "      <th>user_rating</th>\n",
       "      <th>reviews</th>\n",
       "      <th>price</th>\n",
       "      <th>year</th>\n",
       "      <th>genre</th>\n",
       "    </tr>\n",
       "  </thead>\n",
       "  <tbody>\n",
       "    <tr>\n",
       "      <th>0</th>\n",
       "      <td>10-Day Green Smoothie Cleanse</td>\n",
       "      <td>JJ Smith</td>\n",
       "      <td>4.7</td>\n",
       "      <td>17350</td>\n",
       "      <td>8</td>\n",
       "      <td>2016</td>\n",
       "      <td>Non Fiction</td>\n",
       "    </tr>\n",
       "    <tr>\n",
       "      <th>1</th>\n",
       "      <td>11/22/63: A Novel</td>\n",
       "      <td>Stephen King</td>\n",
       "      <td>4.6</td>\n",
       "      <td>2052</td>\n",
       "      <td>22</td>\n",
       "      <td>2011</td>\n",
       "      <td>Fiction</td>\n",
       "    </tr>\n",
       "    <tr>\n",
       "      <th>2</th>\n",
       "      <td>12 Rules for Life: An Antidote to Chaos</td>\n",
       "      <td>Jordan B. Peterson</td>\n",
       "      <td>4.7</td>\n",
       "      <td>18979</td>\n",
       "      <td>15</td>\n",
       "      <td>2018</td>\n",
       "      <td>Non Fiction</td>\n",
       "    </tr>\n",
       "    <tr>\n",
       "      <th>3</th>\n",
       "      <td>1984 (Signet Classics)</td>\n",
       "      <td>George Orwell</td>\n",
       "      <td>4.7</td>\n",
       "      <td>21424</td>\n",
       "      <td>6</td>\n",
       "      <td>2017</td>\n",
       "      <td>Fiction</td>\n",
       "    </tr>\n",
       "    <tr>\n",
       "      <th>4</th>\n",
       "      <td>5,000 Awesome Facts (About Everything!) (Natio...</td>\n",
       "      <td>National Geographic Kids</td>\n",
       "      <td>4.8</td>\n",
       "      <td>7665</td>\n",
       "      <td>12</td>\n",
       "      <td>2019</td>\n",
       "      <td>Non Fiction</td>\n",
       "    </tr>\n",
       "  </tbody>\n",
       "</table>\n",
       "</div>"
      ],
      "text/plain": [
       "                                                name  \\\n",
       "0                      10-Day Green Smoothie Cleanse   \n",
       "1                                  11/22/63: A Novel   \n",
       "2            12 Rules for Life: An Antidote to Chaos   \n",
       "3                             1984 (Signet Classics)   \n",
       "4  5,000 Awesome Facts (About Everything!) (Natio...   \n",
       "\n",
       "                     author  user_rating  reviews  price  year        genre  \n",
       "0                  JJ Smith          4.7    17350      8  2016  Non Fiction  \n",
       "1              Stephen King          4.6     2052     22  2011      Fiction  \n",
       "2        Jordan B. Peterson          4.7    18979     15  2018  Non Fiction  \n",
       "3             George Orwell          4.7    21424      6  2017      Fiction  \n",
       "4  National Geographic Kids          4.8     7665     12  2019  Non Fiction  "
      ]
     },
     "execution_count": 54,
     "metadata": {},
     "output_type": "execute_result"
    }
   ],
   "source": [
    "df.head()"
   ]
  },
  {
   "cell_type": "code",
   "execution_count": 57,
   "id": "15fea155-8186-4ba7-8ce3-29c6f305d576",
   "metadata": {
    "tags": []
   },
   "outputs": [
    {
     "data": {
      "text/plain": [
       "name           0.0\n",
       "author         0.0\n",
       "user_rating    0.0\n",
       "reviews        0.0\n",
       "price          0.0\n",
       "year           0.0\n",
       "genre          0.0\n",
       "dtype: float64"
      ]
     },
     "execution_count": 57,
     "metadata": {},
     "output_type": "execute_result"
    }
   ],
   "source": [
    "df.isna().mean() "
   ]
  },
  {
   "cell_type": "code",
   "execution_count": 58,
   "id": "4a6f0420-0323-457b-822d-3068f9a886cd",
   "metadata": {
    "tags": []
   },
   "outputs": [
    {
     "data": {
      "text/plain": [
       "array(['Non Fiction', 'Fiction'], dtype=object)"
      ]
     },
     "execution_count": 58,
     "metadata": {},
     "output_type": "execute_result"
    }
   ],
   "source": [
    "df.genre.unique()"
   ]
  },
  {
   "cell_type": "code",
   "execution_count": 69,
   "id": "fc755393-7947-445f-b851-43c251d68777",
   "metadata": {
    "tags": []
   },
   "outputs": [],
   "source": [
    "stat_books = df.price.agg(['sum','min','max','mean','median']).to_frame()"
   ]
  },
  {
   "cell_type": "code",
   "execution_count": 71,
   "id": "10cbd8a1-1727-49bd-8f4b-9e7b234f7380",
   "metadata": {
    "tags": []
   },
   "outputs": [],
   "source": [
    "stat_books = stat_books.reset_index().rename(columns = {'index':'aggfunc'})"
   ]
  },
  {
   "cell_type": "code",
   "execution_count": 75,
   "id": "363bf748-efb5-4925-a089-2237533dd23d",
   "metadata": {
    "tags": []
   },
   "outputs": [
    {
     "data": {
      "text/plain": [
       "user_rating\n",
       "4.8    127\n",
       "4.7    108\n",
       "4.6    105\n",
       "4.5     60\n",
       "4.9     52\n",
       "4.4     38\n",
       "4.3     25\n",
       "4.0     14\n",
       "4.2      8\n",
       "4.1      6\n",
       "3.9      3\n",
       "3.8      2\n",
       "3.6      1\n",
       "3.3      1\n",
       "Name: count, dtype: int64"
      ]
     },
     "execution_count": 75,
     "metadata": {},
     "output_type": "execute_result"
    }
   ],
   "source": [
    "df.user_rating.value_counts()"
   ]
  },
  {
   "cell_type": "code",
   "execution_count": 78,
   "id": "d3e8b012-5f16-4ffd-92c7-9dd7762c704a",
   "metadata": {
    "tags": []
   },
   "outputs": [
    {
     "data": {
      "text/plain": [
       "<pandas.core.groupby.generic.DataFrameGroupBy object at 0x0000028C908B7390>"
      ]
     },
     "execution_count": 78,
     "metadata": {},
     "output_type": "execute_result"
    }
   ],
   "source": [
    "df.groupby(['name','user_rating']).va"
   ]
  },
  {
   "cell_type": "code",
   "execution_count": 85,
   "id": "6a71d66b-71c2-484d-a799-e22c8202bb21",
   "metadata": {
    "tags": []
   },
   "outputs": [
    {
     "data": {
      "text/plain": [
       "user_rating\n",
       "4.8    127\n",
       "4.7    108\n",
       "4.6    105\n",
       "4.5     60\n",
       "4.9     52\n",
       "4.4     38\n",
       "4.3     25\n",
       "4.0     14\n",
       "4.2      8\n",
       "4.1      6\n",
       "3.9      3\n",
       "3.8      2\n",
       "3.6      1\n",
       "3.3      1\n",
       "Name: count, dtype: int64"
      ]
     },
     "execution_count": 85,
     "metadata": {},
     "output_type": "execute_result"
    }
   ],
   "source": [
    "df.user_rating.value_counts()"
   ]
  },
  {
   "cell_type": "code",
   "execution_count": 89,
   "id": "3331f13f-5843-4a03-9a64-8a2774cc689a",
   "metadata": {
    "tags": []
   },
   "outputs": [
    {
     "data": {
      "text/html": [
       "<div>\n",
       "<style scoped>\n",
       "    .dataframe tbody tr th:only-of-type {\n",
       "        vertical-align: middle;\n",
       "    }\n",
       "\n",
       "    .dataframe tbody tr th {\n",
       "        vertical-align: top;\n",
       "    }\n",
       "\n",
       "    .dataframe thead th {\n",
       "        text-align: right;\n",
       "    }\n",
       "</style>\n",
       "<table border=\"1\" class=\"dataframe\">\n",
       "  <thead>\n",
       "    <tr style=\"text-align: right;\">\n",
       "      <th></th>\n",
       "      <th>reviews</th>\n",
       "    </tr>\n",
       "    <tr>\n",
       "      <th>name</th>\n",
       "      <th></th>\n",
       "    </tr>\n",
       "  </thead>\n",
       "  <tbody>\n",
       "    <tr>\n",
       "      <th>The Fault in Our Stars</th>\n",
       "      <td>201928</td>\n",
       "    </tr>\n",
       "    <tr>\n",
       "      <th>Oh, the Places You'll Go!</th>\n",
       "      <td>174672</td>\n",
       "    </tr>\n",
       "    <tr>\n",
       "      <th>Gone Girl</th>\n",
       "      <td>171813</td>\n",
       "    </tr>\n",
       "    <tr>\n",
       "      <th>The Girl on the Train</th>\n",
       "      <td>158892</td>\n",
       "    </tr>\n",
       "    <tr>\n",
       "      <th>Unbroken: A World War II Story of Survival, Resilience, and Redemption</th>\n",
       "      <td>148365</td>\n",
       "    </tr>\n",
       "    <tr>\n",
       "      <th>...</th>\n",
       "      <td>...</td>\n",
       "    </tr>\n",
       "    <tr>\n",
       "      <th>The Daily Show with Jon Stewart Presents Earth (The Book): A Visitor's Guide to the Human Race</th>\n",
       "      <td>440</td>\n",
       "    </tr>\n",
       "    <tr>\n",
       "      <th>True Compass: A Memoir</th>\n",
       "      <td>438</td>\n",
       "    </tr>\n",
       "    <tr>\n",
       "      <th>George Washington's Sacred Fire</th>\n",
       "      <td>408</td>\n",
       "    </tr>\n",
       "    <tr>\n",
       "      <th>Soul Healing Miracles: Ancient and New Sacred Wisdom, Knowledge, and Practical Techniques for Healing the Spiritualâ¦</th>\n",
       "      <td>220</td>\n",
       "    </tr>\n",
       "    <tr>\n",
       "      <th>Divine Soul Mind Body Healing and Transmission System: The Divine Way to Heal You, Humanity, Mother Earth, and Allâ¦</th>\n",
       "      <td>37</td>\n",
       "    </tr>\n",
       "  </tbody>\n",
       "</table>\n",
       "<p>351 rows × 1 columns</p>\n",
       "</div>"
      ],
      "text/plain": [
       "                                                    reviews\n",
       "name                                                       \n",
       "The Fault in Our Stars                               201928\n",
       "Oh, the Places You'll Go!                            174672\n",
       "Gone Girl                                            171813\n",
       "The Girl on the Train                                158892\n",
       "Unbroken: A World War II Story of Survival, Res...   148365\n",
       "...                                                     ...\n",
       "The Daily Show with Jon Stewart Presents Earth ...      440\n",
       "True Compass: A Memoir                                  438\n",
       "George Washington's Sacred Fire                         408\n",
       "Soul Healing Miracles: Ancient and New Sacred W...      220\n",
       "Divine Soul Mind Body Healing and Transmission ...       37\n",
       "\n",
       "[351 rows x 1 columns]"
      ]
     },
     "execution_count": 89,
     "metadata": {},
     "output_type": "execute_result"
    }
   ],
   "source": [
    "df.groupby('name').agg({'reviews':'sum'}).sort_values('reviews', ascending=False)"
   ]
  },
  {
   "cell_type": "code",
   "execution_count": 101,
   "id": "ae9dfb50-0372-4a7b-9376-5d65bc0d05b4",
   "metadata": {
    "tags": []
   },
   "outputs": [
    {
     "data": {
      "text/html": [
       "<div>\n",
       "<style scoped>\n",
       "    .dataframe tbody tr th:only-of-type {\n",
       "        vertical-align: middle;\n",
       "    }\n",
       "\n",
       "    .dataframe tbody tr th {\n",
       "        vertical-align: top;\n",
       "    }\n",
       "\n",
       "    .dataframe thead th {\n",
       "        text-align: right;\n",
       "    }\n",
       "</style>\n",
       "<table border=\"1\" class=\"dataframe\">\n",
       "  <thead>\n",
       "    <tr style=\"text-align: right;\">\n",
       "      <th></th>\n",
       "      <th>name</th>\n",
       "      <th>author</th>\n",
       "      <th>user_rating</th>\n",
       "      <th>reviews</th>\n",
       "      <th>price</th>\n",
       "      <th>year</th>\n",
       "      <th>genre</th>\n",
       "    </tr>\n",
       "  </thead>\n",
       "  <tbody>\n",
       "    <tr>\n",
       "      <th>0</th>\n",
       "      <td>10-Day Green Smoothie Cleanse</td>\n",
       "      <td>JJ Smith</td>\n",
       "      <td>4.7</td>\n",
       "      <td>17350</td>\n",
       "      <td>8</td>\n",
       "      <td>2016</td>\n",
       "      <td>Non Fiction</td>\n",
       "    </tr>\n",
       "    <tr>\n",
       "      <th>1</th>\n",
       "      <td>11/22/63: A Novel</td>\n",
       "      <td>Stephen King</td>\n",
       "      <td>4.6</td>\n",
       "      <td>2052</td>\n",
       "      <td>22</td>\n",
       "      <td>2011</td>\n",
       "      <td>Fiction</td>\n",
       "    </tr>\n",
       "    <tr>\n",
       "      <th>2</th>\n",
       "      <td>12 Rules for Life: An Antidote to Chaos</td>\n",
       "      <td>Jordan B. Peterson</td>\n",
       "      <td>4.7</td>\n",
       "      <td>18979</td>\n",
       "      <td>15</td>\n",
       "      <td>2018</td>\n",
       "      <td>Non Fiction</td>\n",
       "    </tr>\n",
       "    <tr>\n",
       "      <th>3</th>\n",
       "      <td>1984 (Signet Classics)</td>\n",
       "      <td>George Orwell</td>\n",
       "      <td>4.7</td>\n",
       "      <td>21424</td>\n",
       "      <td>6</td>\n",
       "      <td>2017</td>\n",
       "      <td>Fiction</td>\n",
       "    </tr>\n",
       "    <tr>\n",
       "      <th>4</th>\n",
       "      <td>5,000 Awesome Facts (About Everything!) (Natio...</td>\n",
       "      <td>National Geographic Kids</td>\n",
       "      <td>4.8</td>\n",
       "      <td>7665</td>\n",
       "      <td>12</td>\n",
       "      <td>2019</td>\n",
       "      <td>Non Fiction</td>\n",
       "    </tr>\n",
       "    <tr>\n",
       "      <th>...</th>\n",
       "      <td>...</td>\n",
       "      <td>...</td>\n",
       "      <td>...</td>\n",
       "      <td>...</td>\n",
       "      <td>...</td>\n",
       "      <td>...</td>\n",
       "      <td>...</td>\n",
       "    </tr>\n",
       "    <tr>\n",
       "      <th>545</th>\n",
       "      <td>Wrecking Ball (Diary of a Wimpy Kid Book 14)</td>\n",
       "      <td>Jeff Kinney</td>\n",
       "      <td>4.9</td>\n",
       "      <td>9413</td>\n",
       "      <td>8</td>\n",
       "      <td>2019</td>\n",
       "      <td>Fiction</td>\n",
       "    </tr>\n",
       "    <tr>\n",
       "      <th>546</th>\n",
       "      <td>You Are a Badass: How to Stop Doubting Your Gr...</td>\n",
       "      <td>Jen Sincero</td>\n",
       "      <td>4.7</td>\n",
       "      <td>14331</td>\n",
       "      <td>8</td>\n",
       "      <td>2016</td>\n",
       "      <td>Non Fiction</td>\n",
       "    </tr>\n",
       "    <tr>\n",
       "      <th>547</th>\n",
       "      <td>You Are a Badass: How to Stop Doubting Your Gr...</td>\n",
       "      <td>Jen Sincero</td>\n",
       "      <td>4.7</td>\n",
       "      <td>14331</td>\n",
       "      <td>8</td>\n",
       "      <td>2017</td>\n",
       "      <td>Non Fiction</td>\n",
       "    </tr>\n",
       "    <tr>\n",
       "      <th>548</th>\n",
       "      <td>You Are a Badass: How to Stop Doubting Your Gr...</td>\n",
       "      <td>Jen Sincero</td>\n",
       "      <td>4.7</td>\n",
       "      <td>14331</td>\n",
       "      <td>8</td>\n",
       "      <td>2018</td>\n",
       "      <td>Non Fiction</td>\n",
       "    </tr>\n",
       "    <tr>\n",
       "      <th>549</th>\n",
       "      <td>You Are a Badass: How to Stop Doubting Your Gr...</td>\n",
       "      <td>Jen Sincero</td>\n",
       "      <td>4.7</td>\n",
       "      <td>14331</td>\n",
       "      <td>8</td>\n",
       "      <td>2019</td>\n",
       "      <td>Non Fiction</td>\n",
       "    </tr>\n",
       "  </tbody>\n",
       "</table>\n",
       "<p>550 rows × 7 columns</p>\n",
       "</div>"
      ],
      "text/plain": [
       "                                                  name  \\\n",
       "0                        10-Day Green Smoothie Cleanse   \n",
       "1                                    11/22/63: A Novel   \n",
       "2              12 Rules for Life: An Antidote to Chaos   \n",
       "3                               1984 (Signet Classics)   \n",
       "4    5,000 Awesome Facts (About Everything!) (Natio...   \n",
       "..                                                 ...   \n",
       "545       Wrecking Ball (Diary of a Wimpy Kid Book 14)   \n",
       "546  You Are a Badass: How to Stop Doubting Your Gr...   \n",
       "547  You Are a Badass: How to Stop Doubting Your Gr...   \n",
       "548  You Are a Badass: How to Stop Doubting Your Gr...   \n",
       "549  You Are a Badass: How to Stop Doubting Your Gr...   \n",
       "\n",
       "                       author  user_rating  reviews  price  year        genre  \n",
       "0                    JJ Smith          4.7    17350      8  2016  Non Fiction  \n",
       "1                Stephen King          4.6     2052     22  2011      Fiction  \n",
       "2          Jordan B. Peterson          4.7    18979     15  2018  Non Fiction  \n",
       "3               George Orwell          4.7    21424      6  2017      Fiction  \n",
       "4    National Geographic Kids          4.8     7665     12  2019  Non Fiction  \n",
       "..                        ...          ...      ...    ...   ...          ...  \n",
       "545               Jeff Kinney          4.9     9413      8  2019      Fiction  \n",
       "546               Jen Sincero          4.7    14331      8  2016  Non Fiction  \n",
       "547               Jen Sincero          4.7    14331      8  2017  Non Fiction  \n",
       "548               Jen Sincero          4.7    14331      8  2018  Non Fiction  \n",
       "549               Jen Sincero          4.7    14331      8  2019  Non Fiction  \n",
       "\n",
       "[550 rows x 7 columns]"
      ]
     },
     "execution_count": 101,
     "metadata": {},
     "output_type": "execute_result"
    }
   ],
   "source": [
    "df"
   ]
  },
  {
   "cell_type": "code",
   "execution_count": 108,
   "id": "0193bddc-38b3-4d99-aaba-4f6c8f185df3",
   "metadata": {
    "tags": []
   },
   "outputs": [
    {
     "data": {
      "text/plain": [
       "46"
      ]
     },
     "execution_count": 108,
     "metadata": {},
     "output_type": "execute_result"
    }
   ],
   "source": [
    "df.query('year==2010').sort_values('user_rating',ascending=False).head(50).price.max()"
   ]
  },
  {
   "cell_type": "code",
   "execution_count": 112,
   "id": "62f821c6-29e4-4dca-bbd2-180c4e948dfa",
   "metadata": {
    "tags": []
   },
   "outputs": [
    {
     "data": {
      "text/plain": [
       "count    20\n",
       "Name: genre, dtype: int64"
      ]
     },
     "execution_count": 112,
     "metadata": {},
     "output_type": "execute_result"
    }
   ],
   "source": [
    "df.query('year==2010 and genre==\"Fiction\"').genre.agg(['count']).head(50)"
   ]
  },
  {
   "cell_type": "code",
   "execution_count": 117,
   "id": "8b2c7498-db01-4463-b53c-e8d1ba465c3a",
   "metadata": {
    "tags": []
   },
   "outputs": [
    {
     "data": {
      "text/html": [
       "<div>\n",
       "<style scoped>\n",
       "    .dataframe tbody tr th:only-of-type {\n",
       "        vertical-align: middle;\n",
       "    }\n",
       "\n",
       "    .dataframe tbody tr th {\n",
       "        vertical-align: top;\n",
       "    }\n",
       "\n",
       "    .dataframe thead th {\n",
       "        text-align: right;\n",
       "    }\n",
       "</style>\n",
       "<table border=\"1\" class=\"dataframe\">\n",
       "  <thead>\n",
       "    <tr style=\"text-align: right;\">\n",
       "      <th></th>\n",
       "      <th>name</th>\n",
       "      <th>author</th>\n",
       "      <th>user_rating</th>\n",
       "      <th>reviews</th>\n",
       "      <th>price</th>\n",
       "      <th>year</th>\n",
       "      <th>genre</th>\n",
       "    </tr>\n",
       "  </thead>\n",
       "  <tbody>\n",
       "  </tbody>\n",
       "</table>\n",
       "</div>"
      ],
      "text/plain": [
       "Empty DataFrame\n",
       "Columns: [name, author, user_rating, reviews, price, year, genre]\n",
       "Index: []"
      ]
     },
     "execution_count": 117,
     "metadata": {},
     "output_type": "execute_result"
    }
   ],
   "source": [
    "df.query('year==2010 and year==2011')"
   ]
  },
  {
   "cell_type": "code",
   "execution_count": 119,
   "id": "05095f58-c19a-44e6-9db7-d27444c67b66",
   "metadata": {
    "tags": []
   },
   "outputs": [],
   "source": [
    "df['year'] = pd.to_datetime(df.year, format = '%Y')"
   ]
  },
  {
   "cell_type": "code",
   "execution_count": 120,
   "id": "c2131023-7f9b-49cc-b547-ce8db171994d",
   "metadata": {
    "tags": []
   },
   "outputs": [
    {
     "data": {
      "text/plain": [
       "name                   object\n",
       "author                 object\n",
       "user_rating           float64\n",
       "reviews                 int64\n",
       "price                   int64\n",
       "year           datetime64[ns]\n",
       "genre                  object\n",
       "dtype: object"
      ]
     },
     "execution_count": 120,
     "metadata": {},
     "output_type": "execute_result"
    }
   ],
   "source": [
    "df.dtypes"
   ]
  },
  {
   "cell_type": "code",
   "execution_count": 123,
   "id": "5dca769d-637b-46e2-944b-3702f7fd98d5",
   "metadata": {
    "tags": []
   },
   "outputs": [],
   "source": [
    "start_date =  pd.to_datetime('2010-01-01')\n",
    "end_date   =  pd.to_datetime('2011-01-01')"
   ]
  },
  {
   "cell_type": "code",
   "execution_count": 126,
   "id": "66ecc330-90b5-4e7e-a4aa-0898db4c6517",
   "metadata": {
    "tags": []
   },
   "outputs": [
    {
     "data": {
      "text/plain": [
       "user_rating\n",
       "4.7    24\n",
       "4.6    21\n",
       "4.8    14\n",
       "4.4    13\n",
       "4.5    12\n",
       "4.3     7\n",
       "4.2     4\n",
       "4.1     2\n",
       "4.0     2\n",
       "4.9     1\n",
       "Name: count, dtype: int64"
      ]
     },
     "execution_count": 126,
     "metadata": {},
     "output_type": "execute_result"
    }
   ],
   "source": [
    "df[df.year.between(start_date, end_date)].user_rating.value_counts()"
   ]
  },
  {
   "cell_type": "code",
   "execution_count": 129,
   "id": "13155210-3e1e-4a68-9000-730d633b3385",
   "metadata": {
    "tags": []
   },
   "outputs": [
    {
     "data": {
      "text/html": [
       "<div>\n",
       "<style scoped>\n",
       "    .dataframe tbody tr th:only-of-type {\n",
       "        vertical-align: middle;\n",
       "    }\n",
       "\n",
       "    .dataframe tbody tr th {\n",
       "        vertical-align: top;\n",
       "    }\n",
       "\n",
       "    .dataframe thead th {\n",
       "        text-align: right;\n",
       "    }\n",
       "</style>\n",
       "<table border=\"1\" class=\"dataframe\">\n",
       "  <thead>\n",
       "    <tr style=\"text-align: right;\">\n",
       "      <th></th>\n",
       "      <th>max</th>\n",
       "      <th>min</th>\n",
       "    </tr>\n",
       "    <tr>\n",
       "      <th>genre</th>\n",
       "      <th></th>\n",
       "      <th></th>\n",
       "    </tr>\n",
       "  </thead>\n",
       "  <tbody>\n",
       "    <tr>\n",
       "      <th>Fiction</th>\n",
       "      <td>82</td>\n",
       "      <td>0</td>\n",
       "    </tr>\n",
       "    <tr>\n",
       "      <th>Non Fiction</th>\n",
       "      <td>105</td>\n",
       "      <td>0</td>\n",
       "    </tr>\n",
       "  </tbody>\n",
       "</table>\n",
       "</div>"
      ],
      "text/plain": [
       "             max  min\n",
       "genre                \n",
       "Fiction       82    0\n",
       "Non Fiction  105    0"
      ]
     },
     "execution_count": 129,
     "metadata": {},
     "output_type": "execute_result"
    }
   ],
   "source": [
    "df.groupby('genre').price.agg(['max','min'])"
   ]
  },
  {
   "cell_type": "code",
   "execution_count": null,
   "id": "d7cb0cd3-f9d8-4592-9849-e8cd18c2d576",
   "metadata": {},
   "outputs": [],
   "source": []
  }
 ],
 "metadata": {
  "kernelspec": {
   "display_name": "Python 3 (ipykernel)",
   "language": "python",
   "name": "python3"
  },
  "language_info": {
   "codemirror_mode": {
    "name": "ipython",
    "version": 3
   },
   "file_extension": ".py",
   "mimetype": "text/x-python",
   "name": "python",
   "nbconvert_exporter": "python",
   "pygments_lexer": "ipython3",
   "version": "3.11.5"
  }
 },
 "nbformat": 4,
 "nbformat_minor": 5
}
